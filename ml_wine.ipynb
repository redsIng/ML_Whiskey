{
  "cells": [
    {
      "cell_type": "markdown",
      "metadata": {
        "id": "view-in-github",
        "colab_type": "text"
      },
      "source": [
        "<a href=\"https://colab.research.google.com/github/redsIng/ML_WineProject/blob/main/ml_wine.ipynb\" target=\"_parent\"><img src=\"https://colab.research.google.com/assets/colab-badge.svg\" alt=\"Open In Colab\"/></a>"
      ]
    },
    {
      "cell_type": "code",
      "execution_count": 54,
      "metadata": {
        "colab": {
          "base_uri": "https://localhost:8080/"
        },
        "id": "r2x4QHs7cf6m",
        "outputId": "dd190b53-220b-4706-fcf7-a6faa543238c"
      },
      "outputs": [
        {
          "output_type": "stream",
          "name": "stdout",
          "text": [
            "Drive already mounted at /content/gdrive; to attempt to forcibly remount, call drive.mount(\"/content/gdrive\", force_remount=True).\n"
          ]
        }
      ],
      "source": [
        "from google.colab import drive\n",
        "drive.mount('/content/gdrive')\n",
        "\n",
        "import warnings\n",
        "warnings.filterwarnings('ignore')\n"
      ]
    },
    {
      "cell_type": "code",
      "source": [
        "%cd /content/gdrive/MyDrive/ML_whisky\n",
        "!ls"
      ],
      "metadata": {
        "id": "Z_-OgPfjdGo7",
        "colab": {
          "base_uri": "https://localhost:8080/"
        },
        "outputId": "d4b5004d-90e5-4794-d212-18afa5a47991"
      },
      "execution_count": 55,
      "outputs": [
        {
          "output_type": "stream",
          "name": "stdout",
          "text": [
            "/content/gdrive/MyDrive/ML_whisky\n",
            "ml_wine.ipynb  pd_functions.py\t__pycache__  README.md\twinequality-red.csv\n"
          ]
        }
      ]
    },
    {
      "cell_type": "code",
      "execution_count": 56,
      "metadata": {
        "id": "iaGo1FQHcf6z"
      },
      "outputs": [],
      "source": [
        "import matplotlib.pyplot as plt\n",
        "import matplotlib.colors as mcolors\n",
        "from matplotlib import cm\n",
        "\n",
        "plt.style.use('ggplot')\n",
        "\n",
        "plt.rcParams['font.family'] = 'sans-serif'\n",
        "plt.rcParams['font.serif'] = 'Ubuntu'\n",
        "plt.rcParams['font.monospace'] = 'Ubuntu Mono'\n",
        "plt.rcParams['font.size'] = 10\n",
        "plt.rcParams['axes.labelsize'] = 10\n",
        "plt.rcParams['axes.labelweight'] = 'bold'\n",
        "plt.rcParams['axes.titlesize'] = 10\n",
        "plt.rcParams['xtick.labelsize'] = 8\n",
        "plt.rcParams['ytick.labelsize'] = 8\n",
        "plt.rcParams['legend.fontsize'] = 10\n",
        "plt.rcParams['figure.titlesize'] = 12\n",
        "plt.rcParams['image.cmap'] = 'jet'\n",
        "plt.rcParams['image.interpolation'] = 'none'\n",
        "plt.rcParams['figure.figsize'] = (16, 8)\n",
        "plt.rcParams['lines.linewidth'] = 2\n",
        "plt.rcParams['lines.markersize'] = 8\n",
        "\n",
        "colors = ['xkcd:pale orange', \n",
        "          'xkcd:sea blue', \n",
        "          'xkcd:pale red', \n",
        "          'xkcd:sage green', \n",
        "          'xkcd:terra cotta', \n",
        "          'xkcd:dull purple', \n",
        "          'xkcd:teal', \n",
        "          'xkcd:goldenrod', \n",
        "          'xkcd:cadet blue', \n",
        "          'xkcd:scarlet']\n",
        "\n",
        "bbox_props = dict(boxstyle=\"round,pad=0.3\", fc=colors[0], alpha=.5)"
      ]
    },
    {
      "cell_type": "markdown",
      "metadata": {
        "id": "o_USBXo7cf62"
      },
      "source": [
        "### Separazione X e Y (la quality è il target)"
      ]
    },
    {
      "cell_type": "code",
      "execution_count": 57,
      "metadata": {
        "id": "sorDDKXycf68"
      },
      "outputs": [],
      "source": [
        "import pandas as pd \n",
        "from matplotlib import pyplot as plt\n",
        "import numpy as np\n",
        "\n",
        "\n",
        "dataset = ['winequality-red.csv']\n",
        "df = pd.read_csv(dataset[0])"
      ]
    },
    {
      "cell_type": "code",
      "execution_count": 60,
      "metadata": {
        "id": "W8qaJxUTcf7C",
        "colab": {
          "base_uri": "https://localhost:8080/"
        },
        "outputId": "2f5c2632-40ed-475d-ac7c-8c1bea7bba33"
      },
      "outputs": [
        {
          "output_type": "execute_result",
          "data": {
            "text/plain": [
              "['fixed acidity',\n",
              " 'volatile acidity',\n",
              " 'citric acid',\n",
              " 'residual sugar',\n",
              " 'chlorides',\n",
              " 'free sulfur dioxide',\n",
              " 'total sulfur dioxide',\n",
              " 'density',\n",
              " 'pH',\n",
              " 'sulphates',\n",
              " 'alcohol',\n",
              " 'quality']"
            ]
          },
          "metadata": {},
          "execution_count": 60
        }
      ],
      "source": [
        "column_names = list(df.columns.values)\n",
        "column_names\n"
      ]
    },
    {
      "cell_type": "code",
      "execution_count": 61,
      "metadata": {
        "id": "mavmDeSmcf7D",
        "colab": {
          "base_uri": "https://localhost:8080/",
          "height": 347
        },
        "outputId": "c6c1b129-6b68-4ebd-c6af-8a1d6a300ce8"
      },
      "outputs": [
        {
          "output_type": "display_data",
          "data": {
            "text/plain": [
              "<Figure size 360x360 with 1 Axes>"
            ],
            "image/png": "[encoded data removed]"
          },
          "metadata": {}
        }
      ],
      "source": [
        "X = df.iloc[:, :-1]\n",
        "Y = df['quality']\n",
        "\n",
        "fig = plt.figure(figsize = (5, 5))\n",
        "plt.hist(df.quality)\n",
        "plt.xlabel('Quality', fontsize = 10)\n",
        "plt.ylabel('Count', fontsize = 10)\n",
        "plt.title('Quality distribution')\n",
        "plt.show() \n",
        "  \n",
        "X = np.array(X)\n",
        "Y = np.array(Y)\n"
      ]
    },
    {
      "cell_type": "code",
      "execution_count": 62,
      "metadata": {
        "id": "hEod2Haccf7F",
        "colab": {
          "base_uri": "https://localhost:8080/"
        },
        "outputId": "0fe20604-c4b9-45db-f579-0d9c6ce309d8"
      },
      "outputs": [
        {
          "output_type": "execute_result",
          "data": {
            "text/plain": [
              "array([[ 7.4  ,  0.7  ,  0.   , ...,  3.51 ,  0.56 ,  9.4  ],\n",
              "       [ 7.8  ,  0.88 ,  0.   , ...,  3.2  ,  0.68 ,  9.8  ],\n",
              "       [ 7.8  ,  0.76 ,  0.04 , ...,  3.26 ,  0.65 ,  9.8  ],\n",
              "       ...,\n",
              "       [ 6.3  ,  0.51 ,  0.13 , ...,  3.42 ,  0.75 , 11.   ],\n",
              "       [ 5.9  ,  0.645,  0.12 , ...,  3.57 ,  0.71 , 10.2  ],\n",
              "       [ 6.   ,  0.31 ,  0.47 , ...,  3.39 ,  0.66 , 11.   ]])"
            ]
          },
          "metadata": {},
          "execution_count": 62
        }
      ],
      "source": [
        "X"
      ]
    },
    {
      "cell_type": "code",
      "execution_count": 63,
      "metadata": {
        "id": "-XhOQyn7cf7H",
        "colab": {
          "base_uri": "https://localhost:8080/"
        },
        "outputId": "94314588-5fa0-4555-ee7b-a88208fbfaa5"
      },
      "outputs": [
        {
          "output_type": "execute_result",
          "data": {
            "text/plain": [
              "array([5, 5, 5, ..., 6, 5, 6])"
            ]
          },
          "metadata": {},
          "execution_count": 63
        }
      ],
      "source": [
        "Y"
      ]
    },
    {
      "cell_type": "markdown",
      "source": [
        "# Preprocessing"
      ],
      "metadata": {
        "id": "V_CDvilZrfQV"
      }
    },
    {
      "cell_type": "markdown",
      "source": [
        "## Missing Values"
      ],
      "metadata": {
        "id": "WV8Je-DbrR9m"
      }
    },
    {
      "cell_type": "code",
      "source": [
        "df.isnull().sum()"
      ],
      "metadata": {
        "id": "B8PumAbgrnFW",
        "colab": {
          "base_uri": "https://localhost:8080/"
        },
        "outputId": "1756e461-fb98-43a2-ecda-0b1e19023c2a"
      },
      "execution_count": 65,
      "outputs": [
        {
          "output_type": "execute_result",
          "data": {
            "text/plain": [
              "fixed acidity           0\n",
              "volatile acidity        0\n",
              "citric acid             0\n",
              "residual sugar          0\n",
              "chlorides               0\n",
              "free sulfur dioxide     0\n",
              "total sulfur dioxide    0\n",
              "density                 0\n",
              "pH                      0\n",
              "sulphates               0\n",
              "alcohol                 0\n",
              "quality                 0\n",
              "dtype: int64"
            ]
          },
          "metadata": {},
          "execution_count": 65
        }
      ]
    },
    {
      "cell_type": "markdown",
      "source": [
        "## Check Zeroes Data "
      ],
      "metadata": {
        "id": "2pzoDE_SsIxM"
      }
    },
    {
      "cell_type": "code",
      "source": [
        "df[df == 0].count()"
      ],
      "metadata": {
        "colab": {
          "base_uri": "https://localhost:8080/"
        },
        "id": "DAbeFitosTFe",
        "outputId": "bb241eef-33b6-483f-9e6d-afe4f770b3a5"
      },
      "execution_count": 66,
      "outputs": [
        {
          "output_type": "execute_result",
          "data": {
            "text/plain": [
              "fixed acidity             0\n",
              "volatile acidity          0\n",
              "citric acid             132\n",
              "residual sugar            0\n",
              "chlorides                 0\n",
              "free sulfur dioxide       0\n",
              "total sulfur dioxide      0\n",
              "density                   0\n",
              "pH                        0\n",
              "sulphates                 0\n",
              "alcohol                   0\n",
              "quality                   0\n",
              "dtype: int64"
            ]
          },
          "metadata": {},
          "execution_count": 66
        }
      ]
    },
    {
      "cell_type": "markdown",
      "source": [
        "## Normalizzazione dati"
      ],
      "metadata": {
        "id": "GiCkFH9Zjjcf"
      }
    },
    {
      "cell_type": "code",
      "source": [
        "#df=(df-df.min())/(df.max()-df.min())\n",
        "#normalized_df=(df-df.mean())/df.std()\n",
        "\n",
        "from sklearn.preprocessing import StandardScaler\n",
        "import pandas as pd\n",
        "\n",
        "df = StandardScaler().fit_transform(df)\n",
        "df = pd.DataFrame(df, columns = column_names)\n",
        "df"
      ],
      "metadata": {
        "colab": {
          "base_uri": "https://localhost:8080/",
          "height": 522
        },
        "id": "Rt13xMrUjiZL",
        "outputId": "f0df79e9-0431-4263-f351-05f32d571f60"
      },
      "execution_count": 67,
      "outputs": [
        {
          "output_type": "execute_result",
          "data": {
            "text/plain": [
              "      fixed acidity  volatile acidity  citric acid  residual sugar  chlorides  \\\n",
              "0         -0.528360          0.961877    -1.391472       -0.453218  -0.243707   \n",
              "1         -0.298547          1.967442    -1.391472        0.043416   0.223875   \n",
              "2         -0.298547          1.297065    -1.186070       -0.169427   0.096353   \n",
              "3          1.654856         -1.384443     1.484154       -0.453218  -0.264960   \n",
              "4         -0.528360          0.961877    -1.391472       -0.453218  -0.243707   \n",
              "...             ...               ...          ...             ...        ...   \n",
              "1594      -1.217796          0.403229    -0.980669       -0.382271   0.053845   \n",
              "1595      -1.390155          0.123905    -0.877968       -0.240375  -0.541259   \n",
              "1596      -1.160343         -0.099554    -0.723916       -0.169427  -0.243707   \n",
              "1597      -1.390155          0.654620    -0.775267       -0.382271  -0.264960   \n",
              "1598      -1.332702         -1.216849     1.021999        0.752894  -0.434990   \n",
              "\n",
              "      free sulfur dioxide  total sulfur dioxide   density        pH  \\\n",
              "0               -0.466193             -0.379133  0.558274  1.288643   \n",
              "1                0.872638              0.624363  0.028261 -0.719933   \n",
              "2               -0.083669              0.229047  0.134264 -0.331177   \n",
              "3                0.107592              0.411500  0.664277 -0.979104   \n",
              "4               -0.466193             -0.379133  0.558274  1.288643   \n",
              "...                   ...                   ...       ...       ...   \n",
              "1594             1.542054             -0.075043 -0.978765  0.899886   \n",
              "1595             2.211469              0.137820 -0.862162  1.353436   \n",
              "1596             1.255161             -0.196679 -0.533554  0.705508   \n",
              "1597             1.542054             -0.075043 -0.676657  1.677400   \n",
              "1598             0.203223             -0.135861 -0.666057  0.511130   \n",
              "\n",
              "      sulphates   alcohol   quality  \n",
              "0     -0.579207 -0.960246 -0.787823  \n",
              "1      0.128950 -0.584777 -0.787823  \n",
              "2     -0.048089 -0.584777 -0.787823  \n",
              "3     -0.461180 -0.584777  0.450848  \n",
              "4     -0.579207 -0.960246 -0.787823  \n",
              "...         ...       ...       ...  \n",
              "1594  -0.461180  0.072294 -0.787823  \n",
              "1595   0.601055  0.729364  0.450848  \n",
              "1596   0.542042  0.541630  0.450848  \n",
              "1597   0.305990 -0.209308 -0.787823  \n",
              "1598   0.010924  0.541630  0.450848  \n",
              "\n",
              "[1599 rows x 12 columns]"
            ],
            "text/html": [
              "\n",
              "  <div id=\"df-a84dee9b-f6c5-41f5-88b1-0fcebb778645\">\n",
              "    <div class=\"colab-df-container\">\n",
              "      <div>\n",
              "<style scoped>\n",
              "    .dataframe tbody tr th:only-of-type {\n",
              "        vertical-align: middle;\n",
              "    }\n",
              "\n",
              "    .dataframe tbody tr th {\n",
              "        vertical-align: top;\n",
              "    }\n",
              "\n",
              "    .dataframe thead th {\n",
              "        text-align: right;\n",
              "    }\n",
              "</style>\n",
              "<table border=\"1\" class=\"dataframe\">\n",
              "  <thead>\n",
              "    <tr style=\"text-align: right;\">\n",
              "      <th></th>\n",
              "      <th>fixed acidity</th>\n",
              "      <th>volatile acidity</th>\n",
              "      <th>citric acid</th>\n",
              "      <th>residual sugar</th>\n",
              "      <th>chlorides</th>\n",
              "      <th>free sulfur dioxide</th>\n",
              "      <th>total sulfur dioxide</th>\n",
              "      <th>density</th>\n",
              "      <th>pH</th>\n",
              "      <th>sulphates</th>\n",
              "      <th>alcohol</th>\n",
              "      <th>quality</th>\n",
              "    </tr>\n",
              "  </thead>\n",
              "  <tbody>\n",
              "    <tr>\n",
              "      <th>0</th>\n",
              "      <td>-0.528360</td>\n",
              "      <td>0.961877</td>\n",
              "      <td>-1.391472</td>\n",
              "      <td>-0.453218</td>\n",
              "      <td>-0.243707</td>\n",
              "      <td>-0.466193</td>\n",
              "      <td>-0.379133</td>\n",
              "      <td>0.558274</td>\n",
              "      <td>1.288643</td>\n",
              "      <td>-0.579207</td>\n",
              "      <td>-0.960246</td>\n",
              "      <td>-0.787823</td>\n",
              "    </tr>\n",
              "    <tr>\n",
              "      <th>1</th>\n",
              "      <td>-0.298547</td>\n",
              "      <td>1.967442</td>\n",
              "      <td>-1.391472</td>\n",
              "      <td>0.043416</td>\n",
              "      <td>0.223875</td>\n",
              "      <td>0.872638</td>\n",
              "      <td>0.624363</td>\n",
              "      <td>0.028261</td>\n",
              "      <td>-0.719933</td>\n",
              "      <td>0.128950</td>\n",
              "      <td>-0.584777</td>\n",
              "      <td>-0.787823</td>\n",
              "    </tr>\n",
              "    <tr>\n",
              "      <th>2</th>\n",
              "      <td>-0.298547</td>\n",
              "      <td>1.297065</td>\n",
              "      <td>-1.186070</td>\n",
              "      <td>-0.169427</td>\n",
              "      <td>0.096353</td>\n",
              "      <td>-0.083669</td>\n",
              "      <td>0.229047</td>\n",
              "      <td>0.134264</td>\n",
              "      <td>-0.331177</td>\n",
              "      <td>-0.048089</td>\n",
              "      <td>-0.584777</td>\n",
              "      <td>-0.787823</td>\n",
              "    </tr>\n",
              "    <tr>\n",
              "      <th>3</th>\n",
              "      <td>1.654856</td>\n",
              "      <td>-1.384443</td>\n",
              "      <td>1.484154</td>\n",
              "      <td>-0.453218</td>\n",
              "      <td>-0.264960</td>\n",
              "      <td>0.107592</td>\n",
              "      <td>0.411500</td>\n",
              "      <td>0.664277</td>\n",
              "      <td>-0.979104</td>\n",
              "      <td>-0.461180</td>\n",
              "      <td>-0.584777</td>\n",
              "      <td>0.450848</td>\n",
              "    </tr>\n",
              "    <tr>\n",
              "      <th>4</th>\n",
              "      <td>-0.528360</td>\n",
              "      <td>0.961877</td>\n",
              "      <td>-1.391472</td>\n",
              "      <td>-0.453218</td>\n",
              "      <td>-0.243707</td>\n",
              "      <td>-0.466193</td>\n",
              "      <td>-0.379133</td>\n",
              "      <td>0.558274</td>\n",
              "      <td>1.288643</td>\n",
              "      <td>-0.579207</td>\n",
              "      <td>-0.960246</td>\n",
              "      <td>-0.787823</td>\n",
              "    </tr>\n",
              "    <tr>\n",
              "      <th>...</th>\n",
              "      <td>...</td>\n",
              "      <td>...</td>\n",
              "      <td>...</td>\n",
              "      <td>...</td>\n",
              "      <td>...</td>\n",
              "      <td>...</td>\n",
              "      <td>...</td>\n",
              "      <td>...</td>\n",
              "      <td>...</td>\n",
              "      <td>...</td>\n",
              "      <td>...</td>\n",
              "      <td>...</td>\n",
              "    </tr>\n",
              "    <tr>\n",
              "      <th>1594</th>\n",
              "      <td>-1.217796</td>\n",
              "      <td>0.403229</td>\n",
              "      <td>-0.980669</td>\n",
              "      <td>-0.382271</td>\n",
              "      <td>0.053845</td>\n",
              "      <td>1.542054</td>\n",
              "      <td>-0.075043</td>\n",
              "      <td>-0.978765</td>\n",
              "      <td>0.899886</td>\n",
              "      <td>-0.461180</td>\n",
              "      <td>0.072294</td>\n",
              "      <td>-0.787823</td>\n",
              "    </tr>\n",
              "    <tr>\n",
              "      <th>1595</th>\n",
              "      <td>-1.390155</td>\n",
              "      <td>0.123905</td>\n",
              "      <td>-0.877968</td>\n",
              "      <td>-0.240375</td>\n",
              "      <td>-0.541259</td>\n",
              "      <td>2.211469</td>\n",
              "      <td>0.137820</td>\n",
              "      <td>-0.862162</td>\n",
              "      <td>1.353436</td>\n",
              "      <td>0.601055</td>\n",
              "      <td>0.729364</td>\n",
              "      <td>0.450848</td>\n",
              "    </tr>\n",
              "    <tr>\n",
              "      <th>1596</th>\n",
              "      <td>-1.160343</td>\n",
              "      <td>-0.099554</td>\n",
              "      <td>-0.723916</td>\n",
              "      <td>-0.169427</td>\n",
              "      <td>-0.243707</td>\n",
              "      <td>1.255161</td>\n",
              "      <td>-0.196679</td>\n",
              "      <td>-0.533554</td>\n",
              "      <td>0.705508</td>\n",
              "      <td>0.542042</td>\n",
              "      <td>0.541630</td>\n",
              "      <td>0.450848</td>\n",
              "    </tr>\n",
              "    <tr>\n",
              "      <th>1597</th>\n",
              "      <td>-1.390155</td>\n",
              "      <td>0.654620</td>\n",
              "      <td>-0.775267</td>\n",
              "      <td>-0.382271</td>\n",
              "      <td>-0.264960</td>\n",
              "      <td>1.542054</td>\n",
              "      <td>-0.075043</td>\n",
              "      <td>-0.676657</td>\n",
              "      <td>1.677400</td>\n",
              "      <td>0.305990</td>\n",
              "      <td>-0.209308</td>\n",
              "      <td>-0.787823</td>\n",
              "    </tr>\n",
              "    <tr>\n",
              "      <th>1598</th>\n",
              "      <td>-1.332702</td>\n",
              "      <td>-1.216849</td>\n",
              "      <td>1.021999</td>\n",
              "      <td>0.752894</td>\n",
              "      <td>-0.434990</td>\n",
              "      <td>0.203223</td>\n",
              "      <td>-0.135861</td>\n",
              "      <td>-0.666057</td>\n",
              "      <td>0.511130</td>\n",
              "      <td>0.010924</td>\n",
              "      <td>0.541630</td>\n",
              "      <td>0.450848</td>\n",
              "    </tr>\n",
              "  </tbody>\n",
              "</table>\n",
              "<p>1599 rows × 12 columns</p>\n",
              "</div>\n",
              "      <button class=\"colab-df-convert\" onclick=\"convertToInteractive('df-a84dee9b-f6c5-41f5-88b1-0fcebb778645')\"\n",
              "              title=\"Convert this dataframe to an interactive table.\"\n",
              "              style=\"display:none;\">\n",
              "        \n",
              "  <svg xmlns=\"http://www.w3.org/2000/svg\" height=\"24px\"viewBox=\"0 0 24 24\"\n",
              "       width=\"24px\">\n",
              "    <path d=\"M0 0h24v24H0V0z\" fill=\"none\"/>\n",
              "    <path d=\"M18.56 5.44l.94 2.06.94-2.06 2.06-.94-2.06-.94-.94-2.06-.94 2.06-2.06.94zm-11 1L8.5 8.5l.94-2.06 2.06-.94-2.06-.94L8.5 2.5l-.94 2.06-2.06.94zm10 10l.94 2.06.94-2.06 2.06-.94-2.06-.94-.94-2.06-.94 2.06-2.06.94z\"/><path d=\"M17.41 7.96l-1.37-1.37c-.4-.4-.92-.59-1.43-.59-.52 0-1.04.2-1.43.59L10.3 9.45l-7.72 7.72c-.78.78-.78 2.05 0 2.83L4 21.41c.39.39.9.59 1.41.59.51 0 1.02-.2 1.41-.59l7.78-7.78 2.81-2.81c.8-.78.8-2.07 0-2.86zM5.41 20L4 18.59l7.72-7.72 1.47 1.35L5.41 20z\"/>\n",
              "  </svg>\n",
              "      </button>\n",
              "      \n",
              "  <style>\n",
              "    .colab-df-container {\n",
              "      display:flex;\n",
              "      flex-wrap:wrap;\n",
              "      gap: 12px;\n",
              "    }\n",
              "\n",
              "    .colab-df-convert {\n",
              "      background-color: #E8F0FE;\n",
              "      border: none;\n",
              "      border-radius: 50%;\n",
              "      cursor: pointer;\n",
              "      display: none;\n",
              "      fill: #1967D2;\n",
              "      height: 32px;\n",
              "      padding: 0 0 0 0;\n",
              "      width: 32px;\n",
              "    }\n",
              "\n",
              "    .colab-df-convert:hover {\n",
              "      background-color: #E2EBFA;\n",
              "      box-shadow: 0px 1px 2px rgba(60, 64, 67, 0.3), 0px 1px 3px 1px rgba(60, 64, 67, 0.15);\n",
              "      fill: #174EA6;\n",
              "    }\n",
              "\n",
              "    [theme=dark] .colab-df-convert {\n",
              "      background-color: #3B4455;\n",
              "      fill: #D2E3FC;\n",
              "    }\n",
              "\n",
              "    [theme=dark] .colab-df-convert:hover {\n",
              "      background-color: #434B5C;\n",
              "      box-shadow: 0px 1px 3px 1px rgba(0, 0, 0, 0.15);\n",
              "      filter: drop-shadow(0px 1px 2px rgba(0, 0, 0, 0.3));\n",
              "      fill: #FFFFFF;\n",
              "    }\n",
              "  </style>\n",
              "\n",
              "      <script>\n",
              "        const buttonEl =\n",
              "          document.querySelector('#df-a84dee9b-f6c5-41f5-88b1-0fcebb778645 button.colab-df-convert');\n",
              "        buttonEl.style.display =\n",
              "          google.colab.kernel.accessAllowed ? 'block' : 'none';\n",
              "\n",
              "        async function convertToInteractive(key) {\n",
              "          const element = document.querySelector('#df-a84dee9b-f6c5-41f5-88b1-0fcebb778645');\n",
              "          const dataTable =\n",
              "            await google.colab.kernel.invokeFunction('convertToInteractive',\n",
              "                                                     [key], {});\n",
              "          if (!dataTable) return;\n",
              "\n",
              "          const docLinkHtml = 'Like what you see? Visit the ' +\n",
              "            '<a target=\"_blank\" href=https://colab.research.google.com/notebooks/data_table.ipynb>data table notebook</a>'\n",
              "            + ' to learn more about interactive tables.';\n",
              "          element.innerHTML = '';\n",
              "          dataTable['output_type'] = 'display_data';\n",
              "          await google.colab.output.renderOutput(dataTable, element);\n",
              "          const docLink = document.createElement('div');\n",
              "          docLink.innerHTML = docLinkHtml;\n",
              "          element.appendChild(docLink);\n",
              "        }\n",
              "      </script>\n",
              "    </div>\n",
              "  </div>\n",
              "  "
            ]
          },
          "metadata": {},
          "execution_count": 67
        }
      ]
    },
    {
      "cell_type": "markdown",
      "source": [
        "## Indici di Varianza, Asimmetria, Curtosi (appiattimento)"
      ],
      "metadata": {
        "id": "cVNAuCYlvZcS"
      }
    },
    {
      "cell_type": "code",
      "source": [
        "df.mean()"
      ],
      "metadata": {
        "colab": {
          "base_uri": "https://localhost:8080/"
        },
        "id": "kg-ZRCRD0MEv",
        "outputId": "b1344f12-d9a4-4a93-86a6-f8091f9621c8"
      },
      "execution_count": 75,
      "outputs": [
        {
          "output_type": "execute_result",
          "data": {
            "text/plain": [
              "fixed acidity           3.554936e-16\n",
              "volatile acidity        1.733031e-16\n",
              "citric acid            -8.887339e-17\n",
              "residual sugar         -1.244227e-16\n",
              "chlorides               2.132961e-16\n",
              "free sulfur dioxide    -6.221137e-17\n",
              "total sulfur dioxide    4.443669e-17\n",
              "density                -3.473172e-14\n",
              "pH                      2.861723e-15\n",
              "sulphates               6.754377e-16\n",
              "alcohol                 1.066481e-16\n",
              "quality                 8.887339e-17\n",
              "dtype: float64"
            ]
          },
          "metadata": {},
          "execution_count": 75
        }
      ]
    },
    {
      "cell_type": "code",
      "source": [
        "df.var()"
      ],
      "metadata": {
        "colab": {
          "base_uri": "https://localhost:8080/"
        },
        "id": "aBQU5wMctJr6",
        "outputId": "fe27aebb-d161-4ad8-c05a-57d00710823a"
      },
      "execution_count": 68,
      "outputs": [
        {
          "output_type": "execute_result",
          "data": {
            "text/plain": [
              "fixed acidity           1.000626\n",
              "volatile acidity        1.000626\n",
              "citric acid             1.000626\n",
              "residual sugar          1.000626\n",
              "chlorides               1.000626\n",
              "free sulfur dioxide     1.000626\n",
              "total sulfur dioxide    1.000626\n",
              "density                 1.000626\n",
              "pH                      1.000626\n",
              "sulphates               1.000626\n",
              "alcohol                 1.000626\n",
              "quality                 1.000626\n",
              "dtype: float64"
            ]
          },
          "metadata": {},
          "execution_count": 68
        }
      ]
    },
    {
      "cell_type": "code",
      "source": [
        "df.skew()"
      ],
      "metadata": {
        "colab": {
          "base_uri": "https://localhost:8080/"
        },
        "id": "6r65CBSmu54q",
        "outputId": "51fd3caa-5b82-4b09-c823-06ded8fb501c"
      },
      "execution_count": 71,
      "outputs": [
        {
          "output_type": "execute_result",
          "data": {
            "text/plain": [
              "fixed acidity           0.982751\n",
              "volatile acidity        0.671593\n",
              "citric acid             0.318337\n",
              "residual sugar          4.540655\n",
              "chlorides               5.680347\n",
              "free sulfur dioxide     1.250567\n",
              "total sulfur dioxide    1.515531\n",
              "density                 0.071288\n",
              "pH                      0.193683\n",
              "sulphates               2.428672\n",
              "alcohol                 0.860829\n",
              "quality                 0.217802\n",
              "dtype: float64"
            ]
          },
          "metadata": {},
          "execution_count": 71
        }
      ]
    },
    {
      "cell_type": "code",
      "source": [
        "df.kurtosis()"
      ],
      "metadata": {
        "colab": {
          "base_uri": "https://localhost:8080/"
        },
        "id": "mxJIWRvlu_u_",
        "outputId": "6317c6ef-9832-4669-f758-64dae827d683"
      },
      "execution_count": 70,
      "outputs": [
        {
          "output_type": "execute_result",
          "data": {
            "text/plain": [
              "fixed acidity            1.132143\n",
              "volatile acidity         1.225542\n",
              "citric acid             -0.788998\n",
              "residual sugar          28.617595\n",
              "chlorides               41.715787\n",
              "free sulfur dioxide      2.023562\n",
              "total sulfur dioxide     3.809824\n",
              "density                  0.934079\n",
              "pH                       0.806943\n",
              "sulphates               11.720251\n",
              "alcohol                  0.200029\n",
              "quality                  0.296708\n",
              "dtype: float64"
            ]
          },
          "metadata": {},
          "execution_count": 70
        }
      ]
    },
    {
      "cell_type": "markdown",
      "source": [
        "## Istogrammi"
      ],
      "metadata": {
        "id": "D_-zKw7Ce5Zt"
      }
    },
    {
      "cell_type": "code",
      "source": [
        "df.hist()"
      ],
      "metadata": {
        "colab": {
          "base_uri": "https://localhost:8080/",
          "height": 704
        },
        "id": "4dXoWrRQe4Za",
        "outputId": "e89c2250-cf73-411f-a01f-b00af16cffb1"
      },
      "execution_count": 72,
      "outputs": [
        {
          "output_type": "execute_result",
          "data": {
            "text/plain": [
              "array([[<matplotlib.axes._subplots.AxesSubplot object at 0x7f24b5b9f850>,\n",
              "        <matplotlib.axes._subplots.AxesSubplot object at 0x7f24b4441450>,\n",
              "        <matplotlib.axes._subplots.AxesSubplot object at 0x7f24b43188d0>],\n",
              "       [<matplotlib.axes._subplots.AxesSubplot object at 0x7f24b434ddd0>,\n",
              "        <matplotlib.axes._subplots.AxesSubplot object at 0x7f24b4311490>,\n",
              "        <matplotlib.axes._subplots.AxesSubplot object at 0x7f24b42c6a50>],\n",
              "       [<matplotlib.axes._subplots.AxesSubplot object at 0x7f24b4281f50>,\n",
              "        <matplotlib.axes._subplots.AxesSubplot object at 0x7f24b42471d0>,\n",
              "        <matplotlib.axes._subplots.AxesSubplot object at 0x7f24b4247210>],\n",
              "       [<matplotlib.axes._subplots.AxesSubplot object at 0x7f24b41fc810>,\n",
              "        <matplotlib.axes._subplots.AxesSubplot object at 0x7f24b471e610>,\n",
              "        <matplotlib.axes._subplots.AxesSubplot object at 0x7f24b5b6c190>]],\n",
              "      dtype=object)"
            ]
          },
          "metadata": {},
          "execution_count": 72
        },
        {
          "output_type": "display_data",
          "data": {
            "text/plain": [
              "<Figure size 1152x576 with 12 Axes>"
            ],
            "image/png": "[encoded data removed]"
          },
          "metadata": {}
        }
      ]
    },
    {
      "cell_type": "markdown",
      "source": [
        "## Check Outliers"
      ],
      "metadata": {
        "id": "TKx-EvVcxJQr"
      }
    },
    {
      "cell_type": "code",
      "source": [
        "sorted(df)\n",
        "q1, q3 = np.percentile(df,[25,75])\n",
        "iqr = q3 - q1\n",
        "\n",
        "lower_bound = q1 -(1.5 * iqr) \n",
        "upper_bound = q3 +(1.5 * iqr)\n",
        "\n",
        "#print(lower_bound,upper_bound)\n",
        "\n",
        "\n",
        "cols = df.columns\n",
        "for i in range(len(cols)):\n",
        "  fig = plt.figure(figsize = (10,5))\n",
        "  df.boxplot(cols[i])\n",
        "###plt.xlabel(\" # wine\")\n",
        "#plt.ylabel(\"ph\")\n",
        "#plt.title(\"diagrammi delle barre\")\n",
        "#plt.show()"
      ],
      "metadata": {
        "colab": {
          "base_uri": "https://localhost:8080/",
          "height": 1000
        },
        "id": "nMuD4saVxLui",
        "outputId": "4a2abdb7-92d2-430e-f718-dc5d5c5ed7aa"
      },
      "execution_count": 74,
      "outputs": [
        {
          "output_type": "display_data",
          "data": {
            "text/plain": [
              "<Figure size 720x360 with 1 Axes>"
            ],
            "image/png": "[encoded data removed]"
          },
          "metadata": {}
        },
        {
          "output_type": "display_data",
          "data": {
            "text/plain": [
              "<Figure size 720x360 with 1 Axes>"
            ],
            "image/png": "[encoded data removed]"
          },
          "metadata": {}
        },
        {
          "output_type": "display_data",
          "data": {
            "text/plain": [
              "<Figure size 720x360 with 1 Axes>"
            ],
            "image/png": "[encoded data removed]"
          },
          "metadata": {}
        },
        {
          "output_type": "display_data",
          "data": {
            "text/plain": [
              "<Figure size 720x360 with 1 Axes>"
            ],
            "image/png": "[encoded data removed]"
          },
          "metadata": {}
        },
        {
          "output_type": "display_data",
          "data": {
            "text/plain": [
              "<Figure size 720x360 with 1 Axes>"
            ],
            "image/png": "[encoded data removed]"
          },
          "metadata": {}
        },
        {
          "output_type": "display_data",
          "data": {
            "text/plain": [
              "<Figure size 720x360 with 1 Axes>"
            ],
            "image/png": "[encoded data removed]"
          },
          "metadata": {}
        },
        {
          "output_type": "display_data",
          "data": {
            "text/plain": [
              "<Figure size 720x360 with 1 Axes>"
            ],
            "image/png": "[encoded data removed]"
          },
          "metadata": {}
        },
        {
          "output_type": "display_data",
          "data": {
            "text/plain": [
              "<Figure size 720x360 with 1 Axes>"
            ],
            "image/png": "[encoded data removed]"
          },
          "metadata": {}
        },
        {
          "output_type": "display_data",
          "data": {
            "text/plain": [
              "<Figure size 720x360 with 1 Axes>"
            ],
            "image/png": "[encoded data removed]"
          },
          "metadata": {}
        },
        {
          "output_type": "display_data",
          "data": {
            "text/plain": [
              "<Figure size 720x360 with 1 Axes>"
            ],
            "image/png": "[encoded data removed]"
          },
          "metadata": {}
        },
        {
          "output_type": "display_data",
          "data": {
            "text/plain": [
              "<Figure size 720x360 with 1 Axes>"
            ],
            "image/png": "[encoded data removed]"
          },
          "metadata": {}
        },
        {
          "output_type": "display_data",
          "data": {
            "text/plain": [
              "<Figure size 720x360 with 1 Axes>"
            ],
            "image/png": "[encoded data removed]"
          },
          "metadata": {}
        }
      ]
    },
    {
      "cell_type": "markdown",
      "metadata": {
        "id": "ypuBTDLFcf7J"
      },
      "source": [
        "# Feature Selection"
      ]
    },
    {
      "cell_type": "code",
      "execution_count": null,
      "metadata": {
        "colab": {
          "base_uri": "https://localhost:8080/",
          "height": 522
        },
        "id": "Gsjpa37icf7K",
        "outputId": "a2c168ef-5ae5-4e93-8135-5c88c45ad012"
      },
      "outputs": [
        {
          "output_type": "execute_result",
          "data": {
            "text/plain": [
              "      fixed acidity  volatile acidity  citric acid  residual sugar  chlorides  \\\n",
              "0          0.247788          0.397260         0.00        0.068493   0.106845   \n",
              "1          0.283186          0.520548         0.00        0.116438   0.143573   \n",
              "2          0.283186          0.438356         0.04        0.095890   0.133556   \n",
              "3          0.584071          0.109589         0.56        0.068493   0.105175   \n",
              "4          0.247788          0.397260         0.00        0.068493   0.106845   \n",
              "...             ...               ...          ...             ...        ...   \n",
              "1594       0.141593          0.328767         0.08        0.075342   0.130217   \n",
              "1595       0.115044          0.294521         0.10        0.089041   0.083472   \n",
              "1596       0.150442          0.267123         0.13        0.095890   0.106845   \n",
              "1597       0.115044          0.359589         0.12        0.075342   0.105175   \n",
              "1598       0.123894          0.130137         0.47        0.184932   0.091820   \n",
              "\n",
              "      free sulfur dioxide  total sulfur dioxide   density        pH  \\\n",
              "0                0.140845              0.098940  0.567548  0.606299   \n",
              "1                0.338028              0.215548  0.494126  0.362205   \n",
              "2                0.197183              0.169611  0.508811  0.409449   \n",
              "3                0.225352              0.190813  0.582232  0.330709   \n",
              "4                0.140845              0.098940  0.567548  0.606299   \n",
              "...                   ...                   ...       ...       ...   \n",
              "1594             0.436620              0.134276  0.354626  0.559055   \n",
              "1595             0.535211              0.159011  0.370778  0.614173   \n",
              "1596             0.394366              0.120141  0.416300  0.535433   \n",
              "1597             0.436620              0.134276  0.396476  0.653543   \n",
              "1598             0.239437              0.127208  0.397944  0.511811   \n",
              "\n",
              "      sulphates   alcohol  quality  \n",
              "0      0.137725  0.153846      0.4  \n",
              "1      0.209581  0.215385      0.4  \n",
              "2      0.191617  0.215385      0.4  \n",
              "3      0.149701  0.215385      0.6  \n",
              "4      0.137725  0.153846      0.4  \n",
              "...         ...       ...      ...  \n",
              "1594   0.149701  0.323077      0.4  \n",
              "1595   0.257485  0.430769      0.6  \n",
              "1596   0.251497  0.400000      0.6  \n",
              "1597   0.227545  0.276923      0.4  \n",
              "1598   0.197605  0.400000      0.6  \n",
              "\n",
              "[1599 rows x 12 columns]"
            ],
            "text/html": [
              "\n",
              "  <div id=\"df-eb938594-c3ba-4e25-8650-1054155eda2f\">\n",
              "    <div class=\"colab-df-container\">\n",
              "      <div>\n",
              "<style scoped>\n",
              "    .dataframe tbody tr th:only-of-type {\n",
              "        vertical-align: middle;\n",
              "    }\n",
              "\n",
              "    .dataframe tbody tr th {\n",
              "        vertical-align: top;\n",
              "    }\n",
              "\n",
              "    .dataframe thead th {\n",
              "        text-align: right;\n",
              "    }\n",
              "</style>\n",
              "<table border=\"1\" class=\"dataframe\">\n",
              "  <thead>\n",
              "    <tr style=\"text-align: right;\">\n",
              "      <th></th>\n",
              "      <th>fixed acidity</th>\n",
              "      <th>volatile acidity</th>\n",
              "      <th>citric acid</th>\n",
              "      <th>residual sugar</th>\n",
              "      <th>chlorides</th>\n",
              "      <th>free sulfur dioxide</th>\n",
              "      <th>total sulfur dioxide</th>\n",
              "      <th>density</th>\n",
              "      <th>pH</th>\n",
              "      <th>sulphates</th>\n",
              "      <th>alcohol</th>\n",
              "      <th>quality</th>\n",
              "    </tr>\n",
              "  </thead>\n",
              "  <tbody>\n",
              "    <tr>\n",
              "      <th>0</th>\n",
              "      <td>0.247788</td>\n",
              "      <td>0.397260</td>\n",
              "      <td>0.00</td>\n",
              "      <td>0.068493</td>\n",
              "      <td>0.106845</td>\n",
              "      <td>0.140845</td>\n",
              "      <td>0.098940</td>\n",
              "      <td>0.567548</td>\n",
              "      <td>0.606299</td>\n",
              "      <td>0.137725</td>\n",
              "      <td>0.153846</td>\n",
              "      <td>0.4</td>\n",
              "    </tr>\n",
              "    <tr>\n",
              "      <th>1</th>\n",
              "      <td>0.283186</td>\n",
              "      <td>0.520548</td>\n",
              "      <td>0.00</td>\n",
              "      <td>0.116438</td>\n",
              "      <td>0.143573</td>\n",
              "      <td>0.338028</td>\n",
              "      <td>0.215548</td>\n",
              "      <td>0.494126</td>\n",
              "      <td>0.362205</td>\n",
              "      <td>0.209581</td>\n",
              "      <td>0.215385</td>\n",
              "      <td>0.4</td>\n",
              "    </tr>\n",
              "    <tr>\n",
              "      <th>2</th>\n",
              "      <td>0.283186</td>\n",
              "      <td>0.438356</td>\n",
              "      <td>0.04</td>\n",
              "      <td>0.095890</td>\n",
              "      <td>0.133556</td>\n",
              "      <td>0.197183</td>\n",
              "      <td>0.169611</td>\n",
              "      <td>0.508811</td>\n",
              "      <td>0.409449</td>\n",
              "      <td>0.191617</td>\n",
              "      <td>0.215385</td>\n",
              "      <td>0.4</td>\n",
              "    </tr>\n",
              "    <tr>\n",
              "      <th>3</th>\n",
              "      <td>0.584071</td>\n",
              "      <td>0.109589</td>\n",
              "      <td>0.56</td>\n",
              "      <td>0.068493</td>\n",
              "      <td>0.105175</td>\n",
              "      <td>0.225352</td>\n",
              "      <td>0.190813</td>\n",
              "      <td>0.582232</td>\n",
              "      <td>0.330709</td>\n",
              "      <td>0.149701</td>\n",
              "      <td>0.215385</td>\n",
              "      <td>0.6</td>\n",
              "    </tr>\n",
              "    <tr>\n",
              "      <th>4</th>\n",
              "      <td>0.247788</td>\n",
              "      <td>0.397260</td>\n",
              "      <td>0.00</td>\n",
              "      <td>0.068493</td>\n",
              "      <td>0.106845</td>\n",
              "      <td>0.140845</td>\n",
              "      <td>0.098940</td>\n",
              "      <td>0.567548</td>\n",
              "      <td>0.606299</td>\n",
              "      <td>0.137725</td>\n",
              "      <td>0.153846</td>\n",
              "      <td>0.4</td>\n",
              "    </tr>\n",
              "    <tr>\n",
              "      <th>...</th>\n",
              "      <td>...</td>\n",
              "      <td>...</td>\n",
              "      <td>...</td>\n",
              "      <td>...</td>\n",
              "      <td>...</td>\n",
              "      <td>...</td>\n",
              "      <td>...</td>\n",
              "      <td>...</td>\n",
              "      <td>...</td>\n",
              "      <td>...</td>\n",
              "      <td>...</td>\n",
              "      <td>...</td>\n",
              "    </tr>\n",
              "    <tr>\n",
              "      <th>1594</th>\n",
              "      <td>0.141593</td>\n",
              "      <td>0.328767</td>\n",
              "      <td>0.08</td>\n",
              "      <td>0.075342</td>\n",
              "      <td>0.130217</td>\n",
              "      <td>0.436620</td>\n",
              "      <td>0.134276</td>\n",
              "      <td>0.354626</td>\n",
              "      <td>0.559055</td>\n",
              "      <td>0.149701</td>\n",
              "      <td>0.323077</td>\n",
              "      <td>0.4</td>\n",
              "    </tr>\n",
              "    <tr>\n",
              "      <th>1595</th>\n",
              "      <td>0.115044</td>\n",
              "      <td>0.294521</td>\n",
              "      <td>0.10</td>\n",
              "      <td>0.089041</td>\n",
              "      <td>0.083472</td>\n",
              "      <td>0.535211</td>\n",
              "      <td>0.159011</td>\n",
              "      <td>0.370778</td>\n",
              "      <td>0.614173</td>\n",
              "      <td>0.257485</td>\n",
              "      <td>0.430769</td>\n",
              "      <td>0.6</td>\n",
              "    </tr>\n",
              "    <tr>\n",
              "      <th>1596</th>\n",
              "      <td>0.150442</td>\n",
              "      <td>0.267123</td>\n",
              "      <td>0.13</td>\n",
              "      <td>0.095890</td>\n",
              "      <td>0.106845</td>\n",
              "      <td>0.394366</td>\n",
              "      <td>0.120141</td>\n",
              "      <td>0.416300</td>\n",
              "      <td>0.535433</td>\n",
              "      <td>0.251497</td>\n",
              "      <td>0.400000</td>\n",
              "      <td>0.6</td>\n",
              "    </tr>\n",
              "    <tr>\n",
              "      <th>1597</th>\n",
              "      <td>0.115044</td>\n",
              "      <td>0.359589</td>\n",
              "      <td>0.12</td>\n",
              "      <td>0.075342</td>\n",
              "      <td>0.105175</td>\n",
              "      <td>0.436620</td>\n",
              "      <td>0.134276</td>\n",
              "      <td>0.396476</td>\n",
              "      <td>0.653543</td>\n",
              "      <td>0.227545</td>\n",
              "      <td>0.276923</td>\n",
              "      <td>0.4</td>\n",
              "    </tr>\n",
              "    <tr>\n",
              "      <th>1598</th>\n",
              "      <td>0.123894</td>\n",
              "      <td>0.130137</td>\n",
              "      <td>0.47</td>\n",
              "      <td>0.184932</td>\n",
              "      <td>0.091820</td>\n",
              "      <td>0.239437</td>\n",
              "      <td>0.127208</td>\n",
              "      <td>0.397944</td>\n",
              "      <td>0.511811</td>\n",
              "      <td>0.197605</td>\n",
              "      <td>0.400000</td>\n",
              "      <td>0.6</td>\n",
              "    </tr>\n",
              "  </tbody>\n",
              "</table>\n",
              "<p>1599 rows × 12 columns</p>\n",
              "</div>\n",
              "      <button class=\"colab-df-convert\" onclick=\"convertToInteractive('df-eb938594-c3ba-4e25-8650-1054155eda2f')\"\n",
              "              title=\"Convert this dataframe to an interactive table.\"\n",
              "              style=\"display:none;\">\n",
              "        \n",
              "  <svg xmlns=\"http://www.w3.org/2000/svg\" height=\"24px\"viewBox=\"0 0 24 24\"\n",
              "       width=\"24px\">\n",
              "    <path d=\"M0 0h24v24H0V0z\" fill=\"none\"/>\n",
              "    <path d=\"M18.56 5.44l.94 2.06.94-2.06 2.06-.94-2.06-.94-.94-2.06-.94 2.06-2.06.94zm-11 1L8.5 8.5l.94-2.06 2.06-.94-2.06-.94L8.5 2.5l-.94 2.06-2.06.94zm10 10l.94 2.06.94-2.06 2.06-.94-2.06-.94-.94-2.06-.94 2.06-2.06.94z\"/><path d=\"M17.41 7.96l-1.37-1.37c-.4-.4-.92-.59-1.43-.59-.52 0-1.04.2-1.43.59L10.3 9.45l-7.72 7.72c-.78.78-.78 2.05 0 2.83L4 21.41c.39.39.9.59 1.41.59.51 0 1.02-.2 1.41-.59l7.78-7.78 2.81-2.81c.8-.78.8-2.07 0-2.86zM5.41 20L4 18.59l7.72-7.72 1.47 1.35L5.41 20z\"/>\n",
              "  </svg>\n",
              "      </button>\n",
              "      \n",
              "  <style>\n",
              "    .colab-df-container {\n",
              "      display:flex;\n",
              "      flex-wrap:wrap;\n",
              "      gap: 12px;\n",
              "    }\n",
              "\n",
              "    .colab-df-convert {\n",
              "      background-color: #E8F0FE;\n",
              "      border: none;\n",
              "      border-radius: 50%;\n",
              "      cursor: pointer;\n",
              "      display: none;\n",
              "      fill: #1967D2;\n",
              "      height: 32px;\n",
              "      padding: 0 0 0 0;\n",
              "      width: 32px;\n",
              "    }\n",
              "\n",
              "    .colab-df-convert:hover {\n",
              "      background-color: #E2EBFA;\n",
              "      box-shadow: 0px 1px 2px rgba(60, 64, 67, 0.3), 0px 1px 3px 1px rgba(60, 64, 67, 0.15);\n",
              "      fill: #174EA6;\n",
              "    }\n",
              "\n",
              "    [theme=dark] .colab-df-convert {\n",
              "      background-color: #3B4455;\n",
              "      fill: #D2E3FC;\n",
              "    }\n",
              "\n",
              "    [theme=dark] .colab-df-convert:hover {\n",
              "      background-color: #434B5C;\n",
              "      box-shadow: 0px 1px 3px 1px rgba(0, 0, 0, 0.15);\n",
              "      filter: drop-shadow(0px 1px 2px rgba(0, 0, 0, 0.3));\n",
              "      fill: #FFFFFF;\n",
              "    }\n",
              "  </style>\n",
              "\n",
              "      <script>\n",
              "        const buttonEl =\n",
              "          document.querySelector('#df-eb938594-c3ba-4e25-8650-1054155eda2f button.colab-df-convert');\n",
              "        buttonEl.style.display =\n",
              "          google.colab.kernel.accessAllowed ? 'block' : 'none';\n",
              "\n",
              "        async function convertToInteractive(key) {\n",
              "          const element = document.querySelector('#df-eb938594-c3ba-4e25-8650-1054155eda2f');\n",
              "          const dataTable =\n",
              "            await google.colab.kernel.invokeFunction('convertToInteractive',\n",
              "                                                     [key], {});\n",
              "          if (!dataTable) return;\n",
              "\n",
              "          const docLinkHtml = 'Like what you see? Visit the ' +\n",
              "            '<a target=\"_blank\" href=https://colab.research.google.com/notebooks/data_table.ipynb>data table notebook</a>'\n",
              "            + ' to learn more about interactive tables.';\n",
              "          element.innerHTML = '';\n",
              "          dataTable['output_type'] = 'display_data';\n",
              "          await google.colab.output.renderOutput(dataTable, element);\n",
              "          const docLink = document.createElement('div');\n",
              "          docLink.innerHTML = docLinkHtml;\n",
              "          element.appendChild(docLink);\n",
              "        }\n",
              "      </script>\n",
              "    </div>\n",
              "  </div>\n",
              "  "
            ]
          },
          "metadata": {},
          "execution_count": 29
        }
      ],
      "source": [
        "\n"
      ]
    },
    {
      "cell_type": "code",
      "execution_count": null,
      "metadata": {
        "id": "XCqUn6bVcf7S"
      },
      "outputs": [],
      "source": [
        "df_var = normalized_df.var()\n",
        "df_var\n",
        "X = normalized_df.iloc[:,:-1]\n",
        "\n"
      ]
    },
    {
      "cell_type": "code",
      "execution_count": null,
      "metadata": {
        "id": "ZsCHIquRcf7U"
      },
      "outputs": [],
      "source": [
        "from sklearn.model_selection import train_test_split"
      ]
    },
    {
      "cell_type": "code",
      "execution_count": null,
      "metadata": {
        "id": "HHlKcQGacf7X"
      },
      "outputs": [],
      "source": [
        "X_train, X_test, y_train, y_test = train_test_split(X, Y, test_size=0.2, random_state=1)\n",
        "\n",
        "X_train, X_val, y_train, y_val = train_test_split(X_train, y_train, test_size=0.25, random_state=1) # 0.25 x 0.8 = 0.2"
      ]
    },
    {
      "cell_type": "code",
      "execution_count": null,
      "metadata": {
        "id": "Qnn5TRYccf7Z"
      },
      "outputs": [],
      "source": [
        "train_set = [X_train,y_train]\n",
        "val_set = [X_val,y_val]\n",
        "test_set = [X_test,y_test]"
      ]
    },
    {
      "cell_type": "code",
      "source": [
        "#train_set"
      ],
      "metadata": {
        "id": "D71a84mVemGI"
      },
      "execution_count": null,
      "outputs": []
    },
    {
      "cell_type": "code",
      "source": [
        "length_X_train = len(X_train)\n",
        "length_y_train = len(y_train)\n",
        "\n",
        "print('x =',length_X_train,',y =',length_y_train)"
      ],
      "metadata": {
        "colab": {
          "base_uri": "https://localhost:8080/"
        },
        "id": "vyxNrG5qgDtX",
        "outputId": "3daf6022-dff9-49d6-b23b-04601f56c45a"
      },
      "execution_count": null,
      "outputs": [
        {
          "output_type": "stream",
          "name": "stdout",
          "text": [
            "x = 959 ,y = 959\n"
          ]
        }
      ]
    },
    {
      "cell_type": "code",
      "source": [
        "from sklearn import svm\n",
        "clf = svm.SVC(kernel='linear', C = 1.0)\n",
        "clf.fit(X_train,y_train)"
      ],
      "metadata": {
        "colab": {
          "base_uri": "https://localhost:8080/"
        },
        "id": "8bjZa_I3eocI",
        "outputId": "2df725f0-1c3b-4f1d-a444-29b38ea01cf3"
      },
      "execution_count": null,
      "outputs": [
        {
          "output_type": "execute_result",
          "data": {
            "text/plain": [
              "SVC(kernel='linear')"
            ]
          },
          "metadata": {},
          "execution_count": 37
        }
      ]
    },
    {
      "cell_type": "code",
      "source": [
        "var1 = clf.predict(X_train)"
      ],
      "metadata": {
        "id": "xdCgliahkoS8"
      },
      "execution_count": null,
      "outputs": []
    },
    {
      "cell_type": "code",
      "source": [
        "clf.score(X_train,y_train)"
      ],
      "metadata": {
        "colab": {
          "base_uri": "https://localhost:8080/"
        },
        "id": "9bOoK9gvf_hJ",
        "outputId": "5031559c-d148-4616-d49e-80456ca9474c"
      },
      "execution_count": null,
      "outputs": [
        {
          "output_type": "execute_result",
          "data": {
            "text/plain": [
              "0.5776850886339937"
            ]
          },
          "metadata": {},
          "execution_count": 40
        }
      ]
    },
    {
      "cell_type": "code",
      "source": [
        "var1 - y_train"
      ],
      "metadata": {
        "colab": {
          "base_uri": "https://localhost:8080/"
        },
        "id": "Jy0R9yrdi9ht",
        "outputId": "7d6676a5-ba66-4e76-b0d1-52f4bd6d79ef"
      },
      "execution_count": null,
      "outputs": [
        {
          "output_type": "execute_result",
          "data": {
            "text/plain": [
              "array([ 0,  0, -1,  0,  0,  0,  0,  0,  0, -1, -2, -1,  0,  2,  1, -1,  1,\n",
              "       -1,  0, -1,  0,  0,  1, -1,  0,  0, -1,  0, -1,  0,  0, -1,  0, -1,\n",
              "        1, -2,  0,  0, -2,  0, -1, -1,  0,  0,  0, -2, -2,  0,  0, -1,  0,\n",
              "        0,  0,  0, -1,  0,  0, -1,  0, -1,  0,  0,  0,  0,  0,  0, -1,  1,\n",
              "        0,  0,  0,  1,  0,  0,  0,  1,  0, -1,  0, -1, -1,  0,  0,  0,  1,\n",
              "        0, -1,  0,  0,  0,  0,  0,  0, -1,  0,  0, -1,  0,  0,  0,  0,  0,\n",
              "        0,  0, -2,  0,  0,  0,  0,  0,  0,  0, -1,  0,  0,  0, -1,  0,  0,\n",
              "        0,  0,  1,  0,  0, -1, -1,  0,  0, -1,  0,  0, -1,  0,  0,  0,  0,\n",
              "        0, -1,  2, -1,  0,  0,  0, -1, -1,  0,  1,  0,  0,  0,  0,  0,  0,\n",
              "        0,  0,  0,  0,  0, -1,  0,  0, -1,  0,  0,  1, -1,  0,  0,  0,  0,\n",
              "       -1,  0, -1, -1,  1,  0,  0,  0,  0,  0,  0, -1,  2,  0,  1,  0, -1,\n",
              "        0, -1,  0,  0,  0,  0,  1, -1,  0,  1,  0,  0, -1,  0, -1, -1,  0,\n",
              "        0, -1,  0, -1,  0,  1,  0,  0,  0, -1,  1,  1,  0,  2, -1,  0,  0,\n",
              "       -2,  0,  2,  0, -1, -1, -1,  0, -1,  0,  0,  0,  0, -1,  0,  0,  0,\n",
              "        0,  0, -1,  0,  0,  0,  0,  1,  0, -1,  0,  1, -1, -1,  0, -1,  0,\n",
              "       -1,  0,  0,  0,  0,  0,  0, -1,  0, -1,  2,  0, -1,  0,  0,  0,  3,\n",
              "        0,  0, -1, -1, -1,  0,  0,  0,  0,  0, -1,  0, -1, -1,  0,  0, -1,\n",
              "       -1,  0,  0,  0,  0,  0,  0, -1,  0,  0,  0, -1,  0,  0,  0,  0,  1,\n",
              "        0,  0,  1,  0, -1,  0,  0,  0,  2, -1, -2, -1,  0,  0,  2,  0, -1,\n",
              "        0,  0, -1,  0, -1,  0, -1,  0, -1, -1,  0,  0,  0, -1,  0, -2, -1,\n",
              "        0,  0,  1, -1,  0, -1, -1,  1,  0,  0,  1, -1,  0,  0,  1,  0,  0,\n",
              "        0,  1, -1,  0,  1,  0,  1,  0,  0,  1, -1,  0,  0,  1, -1,  1,  1,\n",
              "        0, -1, -1, -1,  1,  1,  1,  0,  0, -2, -1,  0, -1,  1,  0, -1,  0,\n",
              "        0, -1,  0, -1,  0,  1, -1,  0,  0, -1,  0, -1,  0, -1, -1, -1,  1,\n",
              "        0,  0,  0,  0,  0,  0, -1,  0,  0,  0,  1,  0,  0,  0, -1, -1, -1,\n",
              "        0,  0, -1,  1,  0,  1,  0,  0,  0,  0, -1,  1,  0,  1, -1,  0, -1,\n",
              "       -1, -1,  0,  0, -1, -1,  1,  1,  0, -1, -1,  0,  0,  2, -2, -2, -1,\n",
              "        0,  0,  0,  0, -1,  0,  0,  0,  0,  0,  1,  0,  0,  0, -1,  1, -1,\n",
              "       -1,  0, -1,  0,  1,  1,  0,  0,  0, -1,  0,  0,  0, -1,  0, -1,  1,\n",
              "        0, -1, -1,  1, -1, -1, -1,  0, -1,  2,  0,  1,  0, -1,  0,  2,  0,\n",
              "        0, -1,  0,  0,  0, -1, -1, -1,  0,  0,  0,  0,  0,  0, -1,  0,  0,\n",
              "       -1,  1,  1,  0,  0, -1, -1,  0,  0,  0,  1,  1,  0,  1, -1,  0, -1,\n",
              "        0,  0,  0,  0, -1, -1,  1,  0,  0,  0,  0, -2,  0,  1, -1,  1,  0,\n",
              "       -1, -1, -1,  0,  0,  0,  1,  1, -1,  0, -1,  0,  0,  1,  0,  0,  0,\n",
              "        1,  0,  0,  0,  2,  0,  0,  0, -2, -1,  0, -1,  0,  0,  0, -1,  0,\n",
              "        0, -1,  0,  1, -2,  0, -2,  0,  0,  0,  0, -1,  0,  1, -1,  1, -2,\n",
              "        0, -1,  0,  0,  1,  1, -1,  0,  0,  0, -1,  0,  0, -2,  0, -1,  0,\n",
              "        0,  0,  0,  0,  0,  1, -1, -1,  0, -1, -1,  0,  0,  0,  0, -1,  0,\n",
              "        0, -1,  0,  0,  0, -2, -1,  0,  0,  0,  0,  0,  0,  2,  0,  0,  0,\n",
              "        0,  0,  1,  0,  0, -1,  0, -1,  0,  1,  0,  0,  0,  0,  0,  0, -1,\n",
              "        1, -1, -1, -1,  0, -1, -1,  0,  0,  0, -1, -1,  0,  0,  1,  0,  0,\n",
              "        0,  0, -1,  1, -1,  0,  0, -1,  0,  0,  1, -1,  0,  0,  0, -1,  1,\n",
              "       -1,  0,  0,  0,  0,  1,  0,  0,  0,  0,  0, -1,  1,  0,  1,  1, -1,\n",
              "       -1, -1, -1,  0, -1,  1,  0, -1,  0,  0,  0, -1, -1, -1, -1,  0,  0,\n",
              "        0, -1, -1,  0,  0,  0, -1,  0,  1,  1,  0, -1,  0, -1,  0, -1, -1,\n",
              "       -1,  0,  0,  0,  1,  0, -1, -1,  0,  0, -2, -1,  1,  0, -2,  0, -1,\n",
              "        0,  0, -1,  0, -1, -1, -2,  0,  0,  0,  0,  0,  0,  0,  1,  0,  0,\n",
              "        0,  0,  0,  1, -1,  0,  0,  0,  0,  1,  0,  0,  1,  1,  1,  0, -1,\n",
              "       -1, -1,  0,  0,  0,  0, -1, -1, -1,  0,  0, -1,  0,  1,  1,  0, -1,\n",
              "        0,  0,  0,  0,  0,  0,  0,  0, -1, -1,  0,  0, -1,  1,  0,  0,  0,\n",
              "       -1, -1,  0,  0, -1,  0, -1,  0, -1,  0,  0,  1,  1, -1,  0,  0, -1,\n",
              "        0,  0,  0,  0, -1,  0,  0,  0, -1, -1,  0,  0, -1,  0,  1,  1, -1,\n",
              "       -1, -1, -1,  1,  0,  1,  0,  1,  1,  1,  0,  0,  0,  1,  0,  2, -1,\n",
              "       -1,  0,  0,  0,  0, -2, -1, -1, -1, -1, -1,  0,  0,  0,  0, -1, -1,\n",
              "       -1, -1,  0,  0,  2,  0,  0,  0,  0,  0,  0, -1,  0,  0, -1,  0,  0,\n",
              "        0,  0, -1,  0,  0,  0, -1,  0,  0,  0,  0,  0,  0,  0, -1,  0,  0,\n",
              "       -1,  0,  0, -1,  0, -1,  0])"
            ]
          },
          "metadata": {},
          "execution_count": 45
        }
      ]
    },
    {
      "cell_type": "code",
      "source": [],
      "metadata": {
        "id": "MVG9lvThj6PY"
      },
      "execution_count": null,
      "outputs": []
    },
    {
      "cell_type": "code",
      "source": [],
      "metadata": {
        "id": "JZgcg1xsj9Bq"
      },
      "execution_count": null,
      "outputs": []
    }
  ],
  "metadata": {
    "kernelspec": {
      "display_name": "Python 3 (ipykernel)",
      "language": "python",
      "name": "python3"
    },
    "language_info": {
      "codemirror_mode": {
        "name": "ipython",
        "version": 3
      },
      "file_extension": ".py",
      "mimetype": "text/x-python",
      "name": "python",
      "nbconvert_exporter": "python",
      "pygments_lexer": "ipython3",
      "version": "3.9.6"
    },
    "colab": {
      "provenance": [],
      "include_colab_link": true
    }
  },
  "nbformat": 4,
  "nbformat_minor": 0
}